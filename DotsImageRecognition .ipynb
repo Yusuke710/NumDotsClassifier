{
  "nbformat": 4,
  "nbformat_minor": 0,
  "metadata": {
    "colab": {
      "name": "DotsImageRecognition.ipynb",
      "provenance": []
    },
    "kernelspec": {
      "display_name": "Python 3",
      "name": "python3"
    },
    "language_info": {
      "name": "python"
    },
    "accelerator": "GPU",
    "widgets": {
      "application/vnd.jupyter.widget-state+json": {
        "47415a8f02e34ac9b801e4082888cfaf": {
          "model_module": "@jupyter-widgets/controls",
          "model_name": "HBoxModel",
          "state": {
            "_view_name": "HBoxView",
            "_dom_classes": [],
            "_model_name": "HBoxModel",
            "_view_module": "@jupyter-widgets/controls",
            "_model_module_version": "1.5.0",
            "_view_count": null,
            "_view_module_version": "1.5.0",
            "box_style": "",
            "layout": "IPY_MODEL_cdd9574088814754b88f728f368ed30e",
            "_model_module": "@jupyter-widgets/controls",
            "children": [
              "IPY_MODEL_c3113321a8834c9b95ff58cadf90fc46",
              "IPY_MODEL_a141d1cd6c894e16b1a6a931e62f8b0a"
            ]
          }
        },
        "cdd9574088814754b88f728f368ed30e": {
          "model_module": "@jupyter-widgets/base",
          "model_name": "LayoutModel",
          "state": {
            "_view_name": "LayoutView",
            "grid_template_rows": null,
            "right": null,
            "justify_content": null,
            "_view_module": "@jupyter-widgets/base",
            "overflow": null,
            "_model_module_version": "1.2.0",
            "_view_count": null,
            "flex_flow": null,
            "width": null,
            "min_width": null,
            "border": null,
            "align_items": null,
            "bottom": null,
            "_model_module": "@jupyter-widgets/base",
            "top": null,
            "grid_column": null,
            "overflow_y": null,
            "overflow_x": null,
            "grid_auto_flow": null,
            "grid_area": null,
            "grid_template_columns": null,
            "flex": null,
            "_model_name": "LayoutModel",
            "justify_items": null,
            "grid_row": null,
            "max_height": null,
            "align_content": null,
            "visibility": null,
            "align_self": null,
            "height": null,
            "min_height": null,
            "padding": null,
            "grid_auto_rows": null,
            "grid_gap": null,
            "max_width": null,
            "order": null,
            "_view_module_version": "1.2.0",
            "grid_template_areas": null,
            "object_position": null,
            "object_fit": null,
            "grid_auto_columns": null,
            "margin": null,
            "display": null,
            "left": null
          }
        },
        "c3113321a8834c9b95ff58cadf90fc46": {
          "model_module": "@jupyter-widgets/controls",
          "model_name": "FloatProgressModel",
          "state": {
            "_view_name": "ProgressView",
            "style": "IPY_MODEL_d798fc08483640fb913c881b529479d4",
            "_dom_classes": [],
            "description": "100%",
            "_model_name": "FloatProgressModel",
            "bar_style": "success",
            "max": 46830571,
            "_view_module": "@jupyter-widgets/controls",
            "_model_module_version": "1.5.0",
            "value": 46830571,
            "_view_count": null,
            "_view_module_version": "1.5.0",
            "orientation": "horizontal",
            "min": 0,
            "description_tooltip": null,
            "_model_module": "@jupyter-widgets/controls",
            "layout": "IPY_MODEL_2b34ee4163cc47719b5143bab88670dd"
          }
        },
        "a141d1cd6c894e16b1a6a931e62f8b0a": {
          "model_module": "@jupyter-widgets/controls",
          "model_name": "HTMLModel",
          "state": {
            "_view_name": "HTMLView",
            "style": "IPY_MODEL_e4fe74cdac1e4d63ba64c1c7bf974a91",
            "_dom_classes": [],
            "description": "",
            "_model_name": "HTMLModel",
            "placeholder": "​",
            "_view_module": "@jupyter-widgets/controls",
            "_model_module_version": "1.5.0",
            "value": " 44.7M/44.7M [25:17&lt;00:00, 30.9kB/s]",
            "_view_count": null,
            "_view_module_version": "1.5.0",
            "description_tooltip": null,
            "_model_module": "@jupyter-widgets/controls",
            "layout": "IPY_MODEL_870dd1af9d974fca918090af90db8e90"
          }
        },
        "d798fc08483640fb913c881b529479d4": {
          "model_module": "@jupyter-widgets/controls",
          "model_name": "ProgressStyleModel",
          "state": {
            "_view_name": "StyleView",
            "_model_name": "ProgressStyleModel",
            "description_width": "initial",
            "_view_module": "@jupyter-widgets/base",
            "_model_module_version": "1.5.0",
            "_view_count": null,
            "_view_module_version": "1.2.0",
            "bar_color": null,
            "_model_module": "@jupyter-widgets/controls"
          }
        },
        "2b34ee4163cc47719b5143bab88670dd": {
          "model_module": "@jupyter-widgets/base",
          "model_name": "LayoutModel",
          "state": {
            "_view_name": "LayoutView",
            "grid_template_rows": null,
            "right": null,
            "justify_content": null,
            "_view_module": "@jupyter-widgets/base",
            "overflow": null,
            "_model_module_version": "1.2.0",
            "_view_count": null,
            "flex_flow": null,
            "width": null,
            "min_width": null,
            "border": null,
            "align_items": null,
            "bottom": null,
            "_model_module": "@jupyter-widgets/base",
            "top": null,
            "grid_column": null,
            "overflow_y": null,
            "overflow_x": null,
            "grid_auto_flow": null,
            "grid_area": null,
            "grid_template_columns": null,
            "flex": null,
            "_model_name": "LayoutModel",
            "justify_items": null,
            "grid_row": null,
            "max_height": null,
            "align_content": null,
            "visibility": null,
            "align_self": null,
            "height": null,
            "min_height": null,
            "padding": null,
            "grid_auto_rows": null,
            "grid_gap": null,
            "max_width": null,
            "order": null,
            "_view_module_version": "1.2.0",
            "grid_template_areas": null,
            "object_position": null,
            "object_fit": null,
            "grid_auto_columns": null,
            "margin": null,
            "display": null,
            "left": null
          }
        },
        "e4fe74cdac1e4d63ba64c1c7bf974a91": {
          "model_module": "@jupyter-widgets/controls",
          "model_name": "DescriptionStyleModel",
          "state": {
            "_view_name": "StyleView",
            "_model_name": "DescriptionStyleModel",
            "description_width": "",
            "_view_module": "@jupyter-widgets/base",
            "_model_module_version": "1.5.0",
            "_view_count": null,
            "_view_module_version": "1.2.0",
            "_model_module": "@jupyter-widgets/controls"
          }
        },
        "870dd1af9d974fca918090af90db8e90": {
          "model_module": "@jupyter-widgets/base",
          "model_name": "LayoutModel",
          "state": {
            "_view_name": "LayoutView",
            "grid_template_rows": null,
            "right": null,
            "justify_content": null,
            "_view_module": "@jupyter-widgets/base",
            "overflow": null,
            "_model_module_version": "1.2.0",
            "_view_count": null,
            "flex_flow": null,
            "width": null,
            "min_width": null,
            "border": null,
            "align_items": null,
            "bottom": null,
            "_model_module": "@jupyter-widgets/base",
            "top": null,
            "grid_column": null,
            "overflow_y": null,
            "overflow_x": null,
            "grid_auto_flow": null,
            "grid_area": null,
            "grid_template_columns": null,
            "flex": null,
            "_model_name": "LayoutModel",
            "justify_items": null,
            "grid_row": null,
            "max_height": null,
            "align_content": null,
            "visibility": null,
            "align_self": null,
            "height": null,
            "min_height": null,
            "padding": null,
            "grid_auto_rows": null,
            "grid_gap": null,
            "max_width": null,
            "order": null,
            "_view_module_version": "1.2.0",
            "grid_template_areas": null,
            "object_position": null,
            "object_fit": null,
            "grid_auto_columns": null,
            "margin": null,
            "display": null,
            "left": null
          }
        }
      }
    }
  },
  "cells": [
    {
      "cell_type": "markdown",
      "metadata": {
        "id": "4YKusWdytrZ4"
      },
      "source": [
        "https://pytorch.org/tutorials/beginner/blitz/cifar10_tutorial.html"
      ]
    },
    {
      "cell_type": "code",
      "metadata": {
        "colab": {
          "base_uri": "https://localhost:8080/"
        },
        "id": "egggFkyoJpRa",
        "outputId": "0ba6e876-bb34-473f-becc-a1522e5e4685"
      },
      "source": [
        "from google.colab import drive\n",
        "drive.mount('/content/drive')"
      ],
      "execution_count": 1,
      "outputs": [
        {
          "output_type": "stream",
          "text": [
            "Mounted at /content/drive\n"
          ],
          "name": "stdout"
        }
      ]
    },
    {
      "cell_type": "code",
      "metadata": {
        "id": "e7g6EQINJ-0Q"
      },
      "source": [
        "import matplotlib.pyplot as plt\n",
        "import numpy as np\n",
        "import torch\n",
        "#from torch import nn\n",
        "#from torch import optim\n",
        "#import torch.nn.functional as F\n",
        "import torchvision\n",
        "from torchvision import datasets, transforms, models\n",
        "import time\n",
        "from torchvision.models import resnet18"
      ],
      "execution_count": 2,
      "outputs": []
    },
    {
      "cell_type": "markdown",
      "metadata": {
        "id": "dzGq7PnpKYui"
      },
      "source": [
        "##Load Dataset"
      ]
    },
    {
      "cell_type": "code",
      "metadata": {
        "colab": {
          "base_uri": "https://localhost:8080/"
        },
        "id": "GpkjHyYlKAld",
        "outputId": "669e0547-45bf-4fae-c2c1-2852f7bef53b"
      },
      "source": [
        "data_dir = '/content/drive/MyDrive/datasetlight'\n",
        "batch_size = 16\n",
        "\n",
        "def load_split_train_test(datadir, valid_size = .2, batch_size = batch_size):\n",
        "    train_transforms = transforms.Compose([transforms.Resize(224), transforms.ToTensor(),])    \n",
        "    test_transforms = transforms.Compose([transforms.Resize(224), transforms.ToTensor(),])    \n",
        "    \n",
        "    train_data = datasets.ImageFolder(datadir, transform=train_transforms)\n",
        "    test_data = datasets.ImageFolder(datadir,transform=test_transforms)    \n",
        "    \n",
        "    num_train = len(train_data)\n",
        "    indices = list(range(num_train))\n",
        "    split = int(np.floor(valid_size * num_train))\n",
        "    np.random.shuffle(indices)\n",
        "    from torch.utils.data.sampler import SubsetRandomSampler\n",
        "    train_idx, test_idx = indices[split:], indices[:split]\n",
        "    train_sampler = SubsetRandomSampler(train_idx)\n",
        "    test_sampler = SubsetRandomSampler(test_idx)\n",
        "\n",
        " \n",
        "    trainloader = torch.utils.data.DataLoader(train_data,\n",
        "                   sampler=train_sampler, batch_size=batch_size)\n",
        "    testloader = torch.utils.data.DataLoader(test_data,\n",
        "                   sampler=test_sampler, batch_size=batch_size)\n",
        "    return trainloader, testloader\n",
        "\n",
        "trainloader, testloader = load_split_train_test(data_dir, .2)\n",
        "print(trainloader.dataset.classes)\n",
        "print(f'{len(trainloader.dataset.classes)} classes in total')\n",
        "print(f'{len(trainloader)} train loaders')\n",
        "print(f'{len(testloader)} test loaders')"
      ],
      "execution_count": 3,
      "outputs": [
        {
          "output_type": "stream",
          "text": [
            "['0', '1-10', '11-20', '21-30', '31-40', '41-50', '51-60', '61-70', '71-80', '81-90', '91-100']\n",
            "11 classes in total\n",
            "48 train loaders\n",
            "12 test loaders\n"
          ],
          "name": "stdout"
        }
      ]
    },
    {
      "cell_type": "markdown",
      "metadata": {
        "id": "43pjccOlKfN5"
      },
      "source": [
        "##Show Dataset\n",
        "\n"
      ]
    },
    {
      "cell_type": "code",
      "metadata": {
        "id": "EfbTLClEKfWa",
        "colab": {
          "base_uri": "https://localhost:8080/",
          "height": 232
        },
        "outputId": "2858158e-6eb7-44fb-ba5d-d248abd86f3d"
      },
      "source": [
        "def imshow(img):\n",
        "    img = img / 2 + 0.5     # unnormalize\n",
        "    npimg = img.numpy()\n",
        "    plt.imshow(np.transpose(npimg, (1, 2, 0)))\n",
        "    plt.show()\n",
        "\n",
        "\n",
        "# get some random training images\n",
        "dataiter = iter(trainloader)\n",
        "images, labels = dataiter.next()\n",
        "\n",
        "# show images\n",
        "plt.figure(figsize = (30,3))\n",
        "imshow(torchvision.utils.make_grid(images))\n",
        "# print labels\n",
        "print(' '.join('%5s' % trainloader.dataset.classes[labels[j]] for j in range(batch_size)))"
      ],
      "execution_count": 4,
      "outputs": [
        {
          "output_type": "display_data",
          "data": {
            "image/png": "[encoded data removed]",
            "text/plain": [
              "<Figure size 2160x216 with 1 Axes>"
            ]
          },
          "metadata": {
            "tags": [],
            "needs_background": "light"
          }
        },
        {
          "output_type": "stream",
          "text": [
            "81-90 91-100 81-90     0 31-40 91-100 41-50  1-10 71-80 11-20 81-90 21-30 31-40     0 11-20 51-60\n"
          ],
          "name": "stdout"
        }
      ]
    },
    {
      "cell_type": "markdown",
      "metadata": {
        "id": "r2Yrr-iZKmQV"
      },
      "source": [
        "##Define CNN Model"
      ]
    },
    {
      "cell_type": "code",
      "metadata": {
        "id": "qgwskCvHKmXb",
        "colab": {
          "base_uri": "https://localhost:8080/",
          "height": 83,
          "referenced_widgets": [
            "47415a8f02e34ac9b801e4082888cfaf",
            "cdd9574088814754b88f728f368ed30e",
            "c3113321a8834c9b95ff58cadf90fc46",
            "a141d1cd6c894e16b1a6a931e62f8b0a",
            "d798fc08483640fb913c881b529479d4",
            "2b34ee4163cc47719b5143bab88670dd",
            "e4fe74cdac1e4d63ba64c1c7bf974a91",
            "870dd1af9d974fca918090af90db8e90"
          ]
        },
        "outputId": "a055b0be-3658-4bd8-88f4-0f944ac40cc9"
      },
      "source": [
        "\n",
        "import torch.nn as nn\n",
        "import torch.nn.functional as F\n",
        "\n",
        "class Net(nn.Module):\n",
        "    def __init__(self):\n",
        "        super().__init__()\n",
        "        self.conv1 = nn.Conv2d(3, 6, 5)\n",
        "        self.pool = nn.MaxPool2d(2, 2)\n",
        "        self.conv2 = nn.Conv2d(6, 16, 5)\n",
        "        #self.fc1 = nn.Linear(16 * 5 * 5, 120)\n",
        "        self.fc1 = nn.Linear(81408, 2000)\n",
        "        #self.fc2 = nn.Linear(120, 84)\n",
        "        #self.fc3 = nn.Linear(84, 11)\n",
        "        self.fc2 = nn.Linear(2000, 50)\n",
        "        self.fc3 = nn.Linear(50, 11)\n",
        "\n",
        "    def forward(self, x):\n",
        "        x = self.conv1(x)\n",
        "        x = F.relu(x)\n",
        "        x = self.pool(x)\n",
        "        x = self.conv2(x)\n",
        "        x = F.relu(x)\n",
        "        x = self.pool(x)\n",
        "        x = torch.flatten(x, 1) # flatten all dimensions except batch\n",
        "        x = self.fc1(x)\n",
        "        x = F.relu(x)\n",
        "        x = self.fc2(x)\n",
        "        x = F.relu(x)\n",
        "        x = self.fc3(x)\n",
        "        return x\n",
        "\n",
        "\n",
        "#net = Net()\n",
        "net = resnet18(pretrained=True)"
      ],
      "execution_count": 5,
      "outputs": [
        {
          "output_type": "stream",
          "text": [
            "Downloading: \"https://download.pytorch.org/models/resnet18-f37072fd.pth\" to /root/.cache/torch/hub/checkpoints/resnet18-f37072fd.pth\n"
          ],
          "name": "stderr"
        },
        {
          "output_type": "display_data",
          "data": {
            "application/vnd.jupyter.widget-view+json": {
              "model_id": "47415a8f02e34ac9b801e4082888cfaf",
              "version_minor": 0,
              "version_major": 2
            },
            "text/plain": [
              "HBox(children=(FloatProgress(value=0.0, max=46830571.0), HTML(value='')))"
            ]
          },
          "metadata": {
            "tags": []
          }
        },
        {
          "output_type": "stream",
          "text": [
            "\n"
          ],
          "name": "stdout"
        }
      ]
    },
    {
      "cell_type": "markdown",
      "metadata": {
        "id": "GNNgNB2SliS4"
      },
      "source": [
        "##Define and Loss function and optimizer "
      ]
    },
    {
      "cell_type": "code",
      "metadata": {
        "id": "gYirq7CTlic0"
      },
      "source": [
        "import torch.optim as optim\n",
        "\n",
        "criterion = nn.CrossEntropyLoss()\n",
        "optimizer = optim.SGD(net.parameters(), lr=0.01, momentum=0.9)"
      ],
      "execution_count": 6,
      "outputs": []
    },
    {
      "cell_type": "markdown",
      "metadata": {
        "id": "p6DAUh3PKo8D"
      },
      "source": [
        "##Train the model"
      ]
    },
    {
      "cell_type": "code",
      "metadata": {
        "id": "a3jQfoBBKpGT",
        "colab": {
          "base_uri": "https://localhost:8080/"
        },
        "outputId": "8462edd2-78bc-40b7-cef9-dd605f770b06"
      },
      "source": [
        "for epoch in range(10):  # loop over the dataset multiple times\n",
        "\n",
        "    running_loss = 0.0\n",
        "    start = time.time()\n",
        "    for i, data in enumerate(trainloader, 0):\n",
        "        # get the inputs; data is a list of [inputs, labels]\n",
        "        inputs, labels = data\n",
        "\n",
        "        # zero the parameter gradients\n",
        "        optimizer.zero_grad()\n",
        "\n",
        "        # forward + backward + optimize\n",
        "        outputs = net(inputs)\n",
        "        loss = criterion(outputs, labels)\n",
        "        loss.backward()\n",
        "        optimizer.step()\n",
        "\n",
        "        # print statistics\n",
        "        running_loss += loss.item()\n",
        "        if i % len(trainloader) == len(trainloader) -1:    # print every loss for every epoch \n",
        "            end = time.time()\n",
        "            elapsed = end - start\n",
        "            print(f'epoch: {epoch}, loss: {running_loss}, time: {elapsed}')\n",
        "            \n",
        "\n",
        "print('Finished Training')"
      ],
      "execution_count": 7,
      "outputs": [
        {
          "output_type": "stream",
          "text": [
            "/usr/local/lib/python3.7/dist-packages/torch/nn/functional.py:718: UserWarning: Named tensors and all their associated APIs are an experimental feature and subject to change. Please do not use them for anything important until they are released as stable. (Triggered internally at  /pytorch/c10/core/TensorImpl.h:1156.)\n",
            "  return torch.max_pool2d(input, kernel_size, stride, padding, dilation, ceil_mode)\n"
          ],
          "name": "stderr"
        },
        {
          "output_type": "stream",
          "text": [
            "epoch: 0, loss: 132.37446081638336, time: 461.86966252326965\n",
            "epoch: 1, loss: 87.71870851516724, time: 213.0658459663391\n",
            "epoch: 2, loss: 75.72242712974548, time: 212.61430525779724\n",
            "epoch: 3, loss: 78.01284164190292, time: 210.73140621185303\n",
            "epoch: 4, loss: 64.45018190145493, time: 208.62784147262573\n",
            "epoch: 5, loss: 56.66025669872761, time: 209.30922293663025\n",
            "epoch: 6, loss: 64.52488198876381, time: 206.3618869781494\n",
            "epoch: 7, loss: 40.0370669066906, time: 208.36302971839905\n",
            "epoch: 8, loss: 32.863470777869225, time: 203.59561276435852\n",
            "epoch: 9, loss: 24.75865837931633, time: 202.27053999900818\n",
            "Finished Training\n"
          ],
          "name": "stdout"
        }
      ]
    },
    {
      "cell_type": "markdown",
      "metadata": {
        "id": "5hISFY4FpHLh"
      },
      "source": [
        "###save the trained model"
      ]
    },
    {
      "cell_type": "code",
      "metadata": {
        "id": "u369jizEpHUh"
      },
      "source": [
        "PATH = './Dots.pth'\n",
        "torch.save(net.state_dict(), PATH)"
      ],
      "execution_count": 8,
      "outputs": []
    },
    {
      "cell_type": "markdown",
      "metadata": {
        "id": "odJE4IIUKvU7"
      },
      "source": [
        "#Test the model"
      ]
    },
    {
      "cell_type": "code",
      "metadata": {
        "id": "D2saU19QKvd0",
        "colab": {
          "base_uri": "https://localhost:8080/",
          "height": 232
        },
        "outputId": "7e5f48c7-86eb-4032-d6ee-6bd22c29b76b"
      },
      "source": [
        "dataiter = iter(testloader)\n",
        "images, labels = dataiter.next()\n",
        "\n",
        "# print images\n",
        "plt.figure(figsize = (30,3))\n",
        "imshow(torchvision.utils.make_grid(images))\n",
        "print('GroundTruth: ', ' '.join('%5s' % testloader.dataset.classes[labels[j]] for j in range(batch_size)))"
      ],
      "execution_count": 9,
      "outputs": [
        {
          "output_type": "display_data",
          "data": {
            "image/png": "[encoded data removed]",
            "text/plain": [
              "<Figure size 2160x216 with 1 Axes>"
            ]
          },
          "metadata": {
            "tags": [],
            "needs_background": "light"
          }
        },
        {
          "output_type": "stream",
          "text": [
            "GroundTruth:  61-70 31-40 21-30 41-50  1-10  1-10 11-20  1-10 41-50 31-40 31-40 41-50 61-70 31-40 51-60 21-30\n"
          ],
          "name": "stdout"
        }
      ]
    },
    {
      "cell_type": "code",
      "metadata": {
        "id": "szyDfjgBppQU"
      },
      "source": [
        "#net = resnet18(pretrained=True) \n",
        "net.load_state_dict(torch.load(PATH))\n",
        "outputs = net(images)"
      ],
      "execution_count": 10,
      "outputs": []
    },
    {
      "cell_type": "code",
      "metadata": {
        "id": "LTR_b6MISYdq",
        "colab": {
          "base_uri": "https://localhost:8080/"
        },
        "outputId": "760d76b9-598f-441f-f171-29b57c738f93"
      },
      "source": [
        "_, predicted = torch.max(outputs, 1)\n",
        "\n",
        "#fix it\n",
        "print('Predicted: ', ' '.join('%5s' % testloader.dataset.classes[predicted[j]]\n",
        "                              for j in range(batch_size)))"
      ],
      "execution_count": 11,
      "outputs": [
        {
          "output_type": "stream",
          "text": [
            "Predicted:  81-90 51-60 41-50 61-70  1-10  1-10 11-20  1-10 61-70 41-50 31-40 81-90 91-100 61-70 61-70 31-40\n"
          ],
          "name": "stdout"
        }
      ]
    },
    {
      "cell_type": "code",
      "metadata": {
        "id": "WdR0GpndSYkM",
        "colab": {
          "base_uri": "https://localhost:8080/"
        },
        "outputId": "9b3dd146-8705-413c-e5d3-540fd090e969"
      },
      "source": [
        "correct = 0\n",
        "total = 0\n",
        "# since we're not training, we don't need to calculate the gradients for our outputs\n",
        "with torch.no_grad():\n",
        "    for data in testloader:\n",
        "        images, labels = data\n",
        "        # calculate outputs by running images through the network\n",
        "        outputs = net(images)\n",
        "        # the class with the highest energy is what we choose as prediction\n",
        "        _, predicted = torch.max(outputs.data, 1)\n",
        "        total += labels.size(0)\n",
        "        correct += (predicted == labels).sum().item()\n",
        "\n",
        "print('Accuracy of the network on the test images: %d %%' % (\n",
        "    100 * correct / total))"
      ],
      "execution_count": 12,
      "outputs": [
        {
          "output_type": "stream",
          "text": [
            "Accuracy of the network on the test images: 56 %\n"
          ],
          "name": "stdout"
        }
      ]
    },
    {
      "cell_type": "code",
      "metadata": {
        "id": "6uREETRRSsfQ",
        "colab": {
          "base_uri": "https://localhost:8080/"
        },
        "outputId": "6ff5e46f-ef01-4ee2-9111-b29ce6e37d94"
      },
      "source": [
        "# prepare to count predictions for each class\n",
        "correct_pred = {classname: 0 for classname in trainloader.dataset.classes}\n",
        "total_pred = {classname: 0 for classname in trainloader.dataset.classes}\n",
        "\n",
        "# again no gradients needed\n",
        "with torch.no_grad():\n",
        "    for data in testloader:\n",
        "        images, labels = data\n",
        "        outputs = net(images)\n",
        "        _, predicted = torch.max(outputs, 1)\n",
        "        # collect the correct predictions for each class\n",
        "        for label, predicted in zip(labels, predicted):\n",
        "            if label == predicted:\n",
        "                correct_pred[trainloader.dataset.classes[label]] += 1\n",
        "            total_pred[trainloader.dataset.classes[label]] += 1\n",
        "\n",
        "\n",
        "# print accuracy for each class\n",
        "for classname, correct_count in correct_pred.items():\n",
        "    accuracy = 100 * float(correct_count) / total_pred[classname]\n",
        "    print(\"Accuracy for class {:5s} is: {:.1f} %\".format(classname,\n",
        "                                                   accuracy))"
      ],
      "execution_count": 15,
      "outputs": [
        {
          "output_type": "stream",
          "text": [
            "Accuracy for class 0     is: 0.0 %\n",
            "Accuracy for class 1-10  is: 95.0 %\n",
            "Accuracy for class 11-20 is: 73.7 %\n",
            "Accuracy for class 21-30 is: 44.4 %\n",
            "Accuracy for class 31-40 is: 45.0 %\n",
            "Accuracy for class 41-50 is: 23.5 %\n",
            "Accuracy for class 51-60 is: 35.0 %\n",
            "Accuracy for class 61-70 is: 47.1 %\n",
            "Accuracy for class 71-80 is: 33.3 %\n",
            "Accuracy for class 81-90 is: 60.7 %\n",
            "Accuracy for class 91-100 is: 87.5 %\n"
          ],
          "name": "stdout"
        }
      ]
    },
    {
      "cell_type": "markdown",
      "metadata": {
        "id": "ynjqZ7jKpaAS"
      },
      "source": [
        "###ToDo\n",
        "\n",
        "- use resnet\n",
        "- make your own layers\n",
        "- plot trainig and validation loss to stop overtraining\n",
        "- learning rate finder\n",
        "- confusion matrix\n",
        "- transform images to create more dataset\n",
        "- use pl.LightningModule"
      ]
    },
    {
      "cell_type": "markdown",
      "metadata": {
        "id": "Wa4BH1EdazTN"
      },
      "source": [
        "- https://d2l.ai/chapter_convolutional-neural-networks/channels.html\n",
        "- https://www.pluralsight.com/guides/introduction-to-resnet "
      ]
    }
  ]
}