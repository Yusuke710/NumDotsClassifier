{
  "nbformat": 4,
  "nbformat_minor": 0,
  "metadata": {
    "colab": {
      "name": "DotsImageRecognition.ipynb",
      "provenance": []
    },
    "kernelspec": {
      "display_name": "Python 3",
      "name": "python3"
    },
    "language_info": {
      "name": "python"
    },
    "accelerator": "GPU"
  },
  "cells": [
    {
      "cell_type": "markdown",
      "metadata": {
        "id": "4YKusWdytrZ4"
      },
      "source": [
        "https://pytorch.org/tutorials/beginner/blitz/cifar10_tutorial.html"
      ]
    },
    {
      "cell_type": "code",
      "metadata": {
        "colab": {
          "base_uri": "https://localhost:8080/"
        },
        "id": "egggFkyoJpRa",
        "outputId": "8aaece94-5780-4025-c1ca-b78602de57a3"
      },
      "source": [
        "from google.colab import drive\n",
        "drive.mount('/content/drive')"
      ],
      "execution_count": 1,
      "outputs": [
        {
          "output_type": "stream",
          "text": [
            "Drive already mounted at /content/drive; to attempt to forcibly remount, call drive.mount(\"/content/drive\", force_remount=True).\n"
          ],
          "name": "stdout"
        }
      ]
    },
    {
      "cell_type": "code",
      "metadata": {
        "id": "e7g6EQINJ-0Q"
      },
      "source": [
        "import matplotlib.pyplot as plt\n",
        "import numpy as np\n",
        "import torch\n",
        "#from torch import nn\n",
        "#from torch import optim\n",
        "#import torch.nn.functional as F\n",
        "import torchvision\n",
        "from torchvision import datasets, transforms, models"
      ],
      "execution_count": 2,
      "outputs": []
    },
    {
      "cell_type": "markdown",
      "metadata": {
        "id": "dzGq7PnpKYui"
      },
      "source": [
        "##Load Dataset"
      ]
    },
    {
      "cell_type": "code",
      "metadata": {
        "colab": {
          "base_uri": "https://localhost:8080/"
        },
        "id": "GpkjHyYlKAld",
        "outputId": "c7a86ad3-6f3a-4a44-e201-6d076e17902b"
      },
      "source": [
        "data_dir = '/content/drive/MyDrive/datasetlight'\n",
        "batch_size = 64\n",
        "\n",
        "def load_split_train_test(datadir, valid_size = .2, batch_size = batch_size):\n",
        "    train_transforms = transforms.Compose([transforms.Resize(224), transforms.ToTensor(),])    \n",
        "    test_transforms = transforms.Compose([transforms.Resize(224), transforms.ToTensor(),])    \n",
        "    \n",
        "    train_data = datasets.ImageFolder(datadir, transform=train_transforms)\n",
        "    test_data = datasets.ImageFolder(datadir,transform=test_transforms)    \n",
        "    \n",
        "    num_train = len(train_data)\n",
        "    indices = list(range(num_train))\n",
        "    split = int(np.floor(valid_size * num_train))\n",
        "    np.random.shuffle(indices)\n",
        "    from torch.utils.data.sampler import SubsetRandomSampler\n",
        "    train_idx, test_idx = indices[split:], indices[:split]\n",
        "    train_sampler = SubsetRandomSampler(train_idx)\n",
        "    test_sampler = SubsetRandomSampler(test_idx)\n",
        "\n",
        " \n",
        "    trainloader = torch.utils.data.DataLoader(train_data,\n",
        "                   sampler=train_sampler, batch_size=batch_size)\n",
        "    testloader = torch.utils.data.DataLoader(test_data,\n",
        "                   sampler=test_sampler, batch_size=batch_size)\n",
        "    return trainloader, testloader\n",
        "\n",
        "trainloader, testloader = load_split_train_test(data_dir, .2)\n",
        "print(trainloader.dataset.classes)\n",
        "print(f'{len(trainloader.dataset.classes)} classes in total')\n",
        "print(f'{len(trainloader)} train loaders')\n",
        "print(f'{len(testloader)} test loaders')"
      ],
      "execution_count": 3,
      "outputs": [
        {
          "output_type": "stream",
          "text": [
            "['0', '1-10', '11-20', '21-30', '31-40', '41-50', '51-60', '61-70', '71-80', '81-90', '91-100']\n",
            "11 classes in total\n",
            "12 train loaders\n",
            "3 test loaders\n"
          ],
          "name": "stdout"
        }
      ]
    },
    {
      "cell_type": "markdown",
      "metadata": {
        "id": "43pjccOlKfN5"
      },
      "source": [
        "##Show Dataset\n",
        "\n"
      ]
    },
    {
      "cell_type": "code",
      "metadata": {
        "id": "EfbTLClEKfWa",
        "colab": {
          "base_uri": "https://localhost:8080/",
          "height": 215
        },
        "outputId": "fd80d03d-1661-45ed-9a9c-ee27a30f5c7b"
      },
      "source": [
        "def imshow(img):\n",
        "    img = img / 2 + 0.5     # unnormalize\n",
        "    npimg = img.numpy()\n",
        "    plt.imshow(np.transpose(npimg, (1, 2, 0)))\n",
        "    plt.show()\n",
        "\n",
        "\n",
        "# get some random training images\n",
        "dataiter = iter(trainloader)\n",
        "images, labels = dataiter.next()\n",
        "\n",
        "# show images\n",
        "plt.figure(figsize = (30,3))\n",
        "imshow(torchvision.utils.make_grid(images))\n",
        "# print labels\n",
        "#print(' '.join('%5s' % trainloader.dataset.classes[labels[j]] for j in range(8)))"
      ],
      "execution_count": 4,
      "outputs": [
        {
          "output_type": "display_data",
          "data": {
            "image/png": "[encoded data removed]",
            "text/plain": [
              "<Figure size 2160x216 with 1 Axes>"
            ]
          },
          "metadata": {
            "tags": [],
            "needs_background": "light"
          }
        }
      ]
    },
    {
      "cell_type": "markdown",
      "metadata": {
        "id": "r2Yrr-iZKmQV"
      },
      "source": [
        "##Define CNN Model"
      ]
    },
    {
      "cell_type": "code",
      "metadata": {
        "id": "qgwskCvHKmXb"
      },
      "source": [
        "\n",
        "import torch.nn as nn\n",
        "import torch.nn.functional as F\n",
        "\n",
        "class Net(nn.Module):\n",
        "    def __init__(self):\n",
        "        super().__init__()\n",
        "        self.conv1 = nn.Conv2d(3, 6, 5)\n",
        "        self.pool = nn.MaxPool2d(2, 2)\n",
        "        self.conv2 = nn.Conv2d(6, 16, 5)\n",
        "        #self.fc1 = nn.Linear(16 * 5 * 5, 120)\n",
        "        self.fc1 = nn.Linear(81408, 120)\n",
        "        self.fc2 = nn.Linear(120, 84)\n",
        "        self.fc3 = nn.Linear(84, 11)\n",
        "\n",
        "    def forward(self, x):\n",
        "        x = self.conv1(x)\n",
        "        x = F.relu(x)\n",
        "        x = self.pool(x)\n",
        "        x = self.conv2(x)\n",
        "        x = F.relu(x)\n",
        "        x = self.pool(x)\n",
        "        x = torch.flatten(x, 1) # flatten all dimensions except batch\n",
        "        x = self.fc1(x)\n",
        "        x = F.relu(x)\n",
        "        x = self.fc2(x)\n",
        "        x = F.relu(x)\n",
        "        x = self.fc3(x)\n",
        "        return x\n",
        "\n",
        "\n",
        "net = Net()"
      ],
      "execution_count": 5,
      "outputs": []
    },
    {
      "cell_type": "markdown",
      "metadata": {
        "id": "GNNgNB2SliS4"
      },
      "source": [
        "##Define and Loss function and optimizer "
      ]
    },
    {
      "cell_type": "code",
      "metadata": {
        "id": "gYirq7CTlic0"
      },
      "source": [
        "import torch.optim as optim\n",
        "\n",
        "criterion = nn.CrossEntropyLoss()\n",
        "optimizer = optim.SGD(net.parameters(), lr=0.001, momentum=0.9)"
      ],
      "execution_count": 6,
      "outputs": []
    },
    {
      "cell_type": "markdown",
      "metadata": {
        "id": "p6DAUh3PKo8D"
      },
      "source": [
        "##Train the model"
      ]
    },
    {
      "cell_type": "code",
      "metadata": {
        "id": "a3jQfoBBKpGT",
        "colab": {
          "base_uri": "https://localhost:8080/"
        },
        "outputId": "1592fa64-6504-442f-91b9-d96e21cc768a"
      },
      "source": [
        "for epoch in range(50):  # loop over the dataset multiple times\n",
        "\n",
        "    running_loss = 0.0\n",
        "    for i, data in enumerate(trainloader, 0):\n",
        "        # get the inputs; data is a list of [inputs, labels]\n",
        "        inputs, labels = data\n",
        "\n",
        "        # zero the parameter gradients\n",
        "        optimizer.zero_grad()\n",
        "\n",
        "        # forward + backward + optimize\n",
        "        outputs = net(inputs)\n",
        "        loss = criterion(outputs, labels)\n",
        "        loss.backward()\n",
        "        optimizer.step()\n",
        "\n",
        "        # print statistics\n",
        "        running_loss += loss.item()\n",
        "        if i % len(trainloader) == len(trainloader) -1:    # print every 100 mini-batches\n",
        "            print(f'epoch: {epoch}, loss: {running_loss}')\n",
        "            running_loss = 0.0\n",
        "\n",
        "print('Finished Training')"
      ],
      "execution_count": 14,
      "outputs": [
        {
          "output_type": "stream",
          "text": [
            "epoch: 0, loss: 27.93799114227295\n",
            "epoch: 1, loss: 27.924630165100098\n",
            "epoch: 2, loss: 27.931166172027588\n",
            "epoch: 3, loss: 27.929980993270874\n",
            "epoch: 4, loss: 27.927740812301636\n",
            "epoch: 5, loss: 27.933940649032593\n",
            "epoch: 6, loss: 27.927835702896118\n",
            "epoch: 7, loss: 27.92843985557556\n",
            "epoch: 8, loss: 27.937441110610962\n",
            "epoch: 9, loss: 27.9333655834198\n",
            "epoch: 10, loss: 27.94097590446472\n",
            "epoch: 11, loss: 27.923192262649536\n",
            "epoch: 12, loss: 27.928394079208374\n",
            "epoch: 13, loss: 27.92748212814331\n",
            "epoch: 14, loss: 27.93389630317688\n",
            "epoch: 15, loss: 27.9248104095459\n",
            "epoch: 16, loss: 27.9254367351532\n",
            "epoch: 17, loss: 27.92178440093994\n",
            "epoch: 18, loss: 27.93949007987976\n",
            "epoch: 19, loss: 27.93929958343506\n",
            "epoch: 20, loss: 27.93837261199951\n",
            "epoch: 21, loss: 27.933926343917847\n",
            "epoch: 22, loss: 27.941399335861206\n",
            "epoch: 23, loss: 27.933343172073364\n",
            "epoch: 24, loss: 27.928093433380127\n",
            "epoch: 25, loss: 27.929741621017456\n",
            "epoch: 26, loss: 27.92938995361328\n",
            "epoch: 27, loss: 27.931398153305054\n",
            "epoch: 28, loss: 27.930326223373413\n",
            "epoch: 29, loss: 27.93419337272644\n",
            "epoch: 30, loss: 27.93756413459778\n",
            "epoch: 31, loss: 27.923912525177002\n",
            "epoch: 32, loss: 27.93385910987854\n",
            "epoch: 33, loss: 27.92525553703308\n",
            "epoch: 34, loss: 27.935271501541138\n",
            "epoch: 35, loss: 27.927622318267822\n",
            "epoch: 36, loss: 27.939421892166138\n",
            "epoch: 37, loss: 27.92689824104309\n",
            "epoch: 38, loss: 27.92145609855652\n",
            "epoch: 39, loss: 27.928263187408447\n",
            "epoch: 40, loss: 27.928786754608154\n",
            "epoch: 41, loss: 27.927905559539795\n",
            "epoch: 42, loss: 27.92883014678955\n",
            "epoch: 43, loss: 27.93240976333618\n",
            "epoch: 44, loss: 27.92283034324646\n",
            "epoch: 45, loss: 27.93056893348694\n",
            "epoch: 46, loss: 27.93046259880066\n",
            "epoch: 47, loss: 27.935677766799927\n",
            "epoch: 48, loss: 27.940054893493652\n",
            "epoch: 49, loss: 27.924243927001953\n",
            "Finished Training\n"
          ],
          "name": "stdout"
        }
      ]
    },
    {
      "cell_type": "markdown",
      "metadata": {
        "id": "5hISFY4FpHLh"
      },
      "source": [
        "###save the trained model"
      ]
    },
    {
      "cell_type": "code",
      "metadata": {
        "id": "u369jizEpHUh"
      },
      "source": [
        "PATH = './Dots.pth'\n",
        "torch.save(net.state_dict(), PATH)"
      ],
      "execution_count": 15,
      "outputs": []
    },
    {
      "cell_type": "markdown",
      "metadata": {
        "id": "odJE4IIUKvU7"
      },
      "source": [
        "#Test the model"
      ]
    },
    {
      "cell_type": "code",
      "metadata": {
        "id": "D2saU19QKvd0",
        "colab": {
          "base_uri": "https://localhost:8080/",
          "height": 232
        },
        "outputId": "e29e16b3-91bd-451b-d024-48c1062d938c"
      },
      "source": [
        "dataiter = iter(testloader)\n",
        "images, labels = dataiter.next()\n",
        "\n",
        "# print images\n",
        "plt.figure(figsize = (30,3))\n",
        "imshow(torchvision.utils.make_grid(images))\n",
        "print('GroundTruth: ', ' '.join('%5s' % trainloader.dataset.classes[labels[j]] for j in range(8)))"
      ],
      "execution_count": 16,
      "outputs": [
        {
          "output_type": "display_data",
          "data": {
            "image/png": "[encoded data removed]",
            "text/plain": [
              "<Figure size 2160x216 with 1 Axes>"
            ]
          },
          "metadata": {
            "tags": [],
            "needs_background": "light"
          }
        },
        {
          "output_type": "stream",
          "text": [
            "GroundTruth:  51-60  1-10 21-30 81-90 41-50 21-30 41-50 91-100\n"
          ],
          "name": "stdout"
        }
      ]
    },
    {
      "cell_type": "code",
      "metadata": {
        "id": "szyDfjgBppQU"
      },
      "source": [
        "net = Net()\n",
        "net.load_state_dict(torch.load(PATH))\n",
        "outputs = net(images)"
      ],
      "execution_count": 17,
      "outputs": []
    },
    {
      "cell_type": "code",
      "metadata": {
        "colab": {
          "base_uri": "https://localhost:8080/"
        },
        "id": "LTR_b6MISYdq",
        "outputId": "3c789af7-2a34-41fe-e5c7-64d7ca467d52"
      },
      "source": [
        "_, predicted = torch.max(outputs, 1)\n",
        "\n",
        "print('Predicted: ', ' '.join('%5s' % trainloader.dataset.classes[predicted[j]]\n",
        "                              for j in range(8)))\n"
      ],
      "execution_count": 18,
      "outputs": [
        {
          "output_type": "stream",
          "text": [
            "Predicted:  81-90 81-90 81-90 81-90 81-90 81-90 81-90 81-90\n"
          ],
          "name": "stdout"
        }
      ]
    },
    {
      "cell_type": "code",
      "metadata": {
        "colab": {
          "base_uri": "https://localhost:8080/"
        },
        "id": "WdR0GpndSYkM",
        "outputId": "1e26f48f-c66d-46c4-cb29-6287a0f5d044"
      },
      "source": [
        "correct = 0\n",
        "total = 0\n",
        "# since we're not training, we don't need to calculate the gradients for our outputs\n",
        "with torch.no_grad():\n",
        "    for data in testloader:\n",
        "        images, labels = data\n",
        "        # calculate outputs by running images through the network\n",
        "        outputs = net(images)\n",
        "        # the class with the highest energy is what we choose as prediction\n",
        "        _, predicted = torch.max(outputs.data, 1)\n",
        "        total += labels.size(0)\n",
        "        correct += (predicted == labels).sum().item()\n",
        "\n",
        "print('Accuracy of the network on the test images: %d %%' % (\n",
        "    100 * correct / total))"
      ],
      "execution_count": 20,
      "outputs": [
        {
          "output_type": "stream",
          "text": [
            "Accuracy of the network on the test images: 12 %\n"
          ],
          "name": "stdout"
        }
      ]
    },
    {
      "cell_type": "code",
      "metadata": {
        "colab": {
          "base_uri": "https://localhost:8080/"
        },
        "id": "6uREETRRSsfQ",
        "outputId": "471a9906-30e3-430e-daed-593ecfff444f"
      },
      "source": [
        "# prepare to count predictions for each class\n",
        "correct_pred = {classname: 0 for classname in trainloader.dataset.classes}\n",
        "total_pred = {classname: 0 for classname in trainloader.dataset.classes}\n",
        "\n",
        "# again no gradients needed\n",
        "with torch.no_grad():\n",
        "    for data in testloader:\n",
        "        images, labels = data\n",
        "        outputs = net(images)\n",
        "        _, predictions = torch.max(outputs, 1)\n",
        "        # collect the correct predictions for each class\n",
        "        for label, prediction in zip(labels, predictions):\n",
        "            if label == prediction:\n",
        "                correct_pred[trainloader.dataset.classes[label]] += 1\n",
        "            total_pred[trainloader.dataset.classes[label]] += 1\n",
        "\n",
        "\n",
        "# print accuracy for each class\n",
        "for classname, correct_count in correct_pred.items():\n",
        "    accuracy = 100 * float(correct_count) / total_pred[classname]\n",
        "    print(\"Accuracy for class {:5s} is: {:.1f} %\".format(classname,\n",
        "                                                   accuracy))"
      ],
      "execution_count": 21,
      "outputs": [
        {
          "output_type": "stream",
          "text": [
            "Accuracy for class 0     is: 0.0 %\n",
            "Accuracy for class 1-10  is: 0.0 %\n",
            "Accuracy for class 11-20 is: 0.0 %\n",
            "Accuracy for class 21-30 is: 0.0 %\n",
            "Accuracy for class 31-40 is: 0.0 %\n",
            "Accuracy for class 41-50 is: 0.0 %\n",
            "Accuracy for class 51-60 is: 0.0 %\n",
            "Accuracy for class 61-70 is: 0.0 %\n",
            "Accuracy for class 71-80 is: 0.0 %\n",
            "Accuracy for class 81-90 is: 100.0 %\n",
            "Accuracy for class 91-100 is: 0.0 %\n"
          ],
          "name": "stdout"
        }
      ]
    },
    {
      "cell_type": "markdown",
      "metadata": {
        "id": "ynjqZ7jKpaAS"
      },
      "source": [
        "###Confusion matrix"
      ]
    },
    {
      "cell_type": "code",
      "metadata": {
        "id": "GSCC5waNpaLV"
      },
      "source": [
        ""
      ],
      "execution_count": 13,
      "outputs": []
    }
  ]
}